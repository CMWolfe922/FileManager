{
 "cells": [
  {
   "cell_type": "code",
   "execution_count": 1,
   "id": "8bc4d764",
   "metadata": {},
   "outputs": [],
   "source": [
    "import os \n",
    "import shutil\n",
    "\n",
    "# first I will check for python programs and javascript programs"
   ]
  },
  {
   "cell_type": "code",
   "execution_count": 8,
   "id": "c4b92f86",
   "metadata": {},
   "outputs": [],
   "source": [
    "def is_python_project(dir_path):\n",
    "    # Check for any Python project indicators\n",
    "    return any(file in os.listdir(dir_path) for file in ['*.py','requirements.txt', 'setup.py', '.venv'])"
   ]
  },
  {
   "cell_type": "code",
   "execution_count": 9,
   "id": "52898736",
   "metadata": {},
   "outputs": [],
   "source": [
    "def is_nodejs_project(dir_path):\n",
    "    # Check for Node.js project indicator\n",
    "    return 'package.json' in os.listdir(dir_path)"
   ]
  },
  {
   "cell_type": "code",
   "execution_count": 10,
   "id": "3564d4f0",
   "metadata": {},
   "outputs": [],
   "source": [
    "def move_projects(start_path, target_path):\n",
    "    for root, dirs, files in os.walk(start_path):\n",
    "        for dir in dirs:\n",
    "            dir_path = os.path.join(root, dir)\n",
    "            if is_python_project(dir_path) or is_nodejs_project(dir_path):\n",
    "                shutil.move(dir_path, target_path)\n",
    "                print(f'Moved {dir_path} to {target_path}')"
   ]
  },
  {
   "cell_type": "code",
   "execution_count": 12,
   "id": "7599f4a2",
   "metadata": {},
   "outputs": [],
   "source": [
    "test_directory_start = \"C:\\\\Users\\\\CharlesMWolfe\\\\dev\"\n",
    "test_target_directory = \"C:\\\\Users\\\\CharlesMWolfe\\\\dev\\\\consolidated_projects\""
   ]
  },
  {
   "cell_type": "code",
   "execution_count": 13,
   "id": "88080b0f",
   "metadata": {},
   "outputs": [
    {
     "name": "stdout",
     "output_type": "stream",
     "text": [
      "False\n",
      "False\n"
     ]
    }
   ],
   "source": [
    "try:\n",
    "    py_dirs = is_python_project(test_directory_start)\n",
    "    print(py_dirs)\n",
    "    \n",
    "    njs_dirs = is_nodejs_project(test_directory_start)\n",
    "    print(njs_dirs)\n",
    "    \n",
    "except Exception as e:\n",
    "    print(f'{e}')"
   ]
  },
  {
   "cell_type": "code",
   "execution_count": null,
   "id": "aa261b46",
   "metadata": {},
   "outputs": [],
   "source": []
  }
 ],
 "metadata": {
  "kernelspec": {
   "display_name": "Python 3 (ipykernel)",
   "language": "python",
   "name": "python3"
  },
  "language_info": {
   "codemirror_mode": {
    "name": "ipython",
    "version": 3
   },
   "file_extension": ".py",
   "mimetype": "text/x-python",
   "name": "python",
   "nbconvert_exporter": "python",
   "pygments_lexer": "ipython3",
   "version": "3.11.5"
  }
 },
 "nbformat": 4,
 "nbformat_minor": 5
}
